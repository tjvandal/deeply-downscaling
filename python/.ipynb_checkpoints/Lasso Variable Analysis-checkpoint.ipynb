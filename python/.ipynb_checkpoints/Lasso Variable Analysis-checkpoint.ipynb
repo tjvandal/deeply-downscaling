{
 "metadata": {
  "name": "",
  "signature": "sha256:57772b3d83b063f863c13df0d8e825ef3176a7caf03491029126e8983518f4af"
 },
 "nbformat": 3,
 "nbformat_minor": 0,
 "worksheets": [
  {
   "cells": [
    {
     "cell_type": "code",
     "collapsed": false,
     "input": [
      "import numpy\n",
      "from netCDF4 import Dataset, num2date\n",
      "import os\n",
      "import sys\n",
      "import datetime\n",
      "import pandas\n",
      "import vincent\n",
      "from sklearn.linear_model import Lasso,ElasticNet,LassoCV,LassoLarsCV\n",
      "from matplotlib import pyplot\n",
      "%matplotlib inline\n",
      "vincent.core.initialize_notebook()"
     ],
     "language": "python",
     "metadata": {},
     "outputs": [
      {
       "html": [
        "\n",
        "           <script>\n",
        "               \n",
        "                function vct_load_lib(url, callback){\n",
        "                      if(typeof d3 !== 'undefined' &&\n",
        "                         url === 'http://d3js.org/d3.v3.min.js'){\n",
        "                        callback()\n",
        "                      }\n",
        "                      var s = document.createElement('script');\n",
        "                      s.src = url;\n",
        "                      s.async = true;\n",
        "                      s.onreadystatechange = s.onload = callback;\n",
        "                      s.onerror = function(){\n",
        "                        console.warn(\"failed to load library \" + url);\n",
        "                        };\n",
        "                      document.getElementsByTagName(\"head\")[0].appendChild(s);\n",
        "                };\n",
        "                var vincent_event = new CustomEvent(\n",
        "                  \"vincent_libs_loaded\",\n",
        "                  {bubbles: true, cancelable: true}\n",
        "                );\n",
        "                \n",
        "               function load_all_libs(){\n",
        "                  console.log('Loading Vincent libs...')\n",
        "                  vct_load_lib('http://d3js.org/d3.v3.min.js', function(){\n",
        "                  vct_load_lib('http://d3js.org/d3.geo.projection.v0.min.js', function(){\n",
        "                  vct_load_lib('http://wrobstory.github.io/d3-cloud/d3.layout.cloud.js', function(){\n",
        "                  vct_load_lib('http://wrobstory.github.io/vega/vega.v1.3.3.js', function(){\n",
        "                  window.dispatchEvent(vincent_event);\n",
        "                  });\n",
        "                  });\n",
        "                  });\n",
        "                  });\n",
        "               };\n",
        "               if(typeof define === \"function\" && define.amd){\n",
        "                    if (window['d3'] === undefined ||\n",
        "                        window['topojson'] === undefined){\n",
        "                        require.config(\n",
        "                            {paths: {\n",
        "                              d3: 'http://d3js.org/d3.v3.min',\n",
        "                              topojson: 'http://d3js.org/topojson.v1.min'\n",
        "                              }\n",
        "                            }\n",
        "                          );\n",
        "                        require([\"d3\"], function(d3){\n",
        "                            console.log('Loading Vincent from require.js...')\n",
        "                            window.d3 = d3;\n",
        "                            require([\"topojson\"], function(topojson){\n",
        "                                window.topojson = topojson;\n",
        "                                load_all_libs();\n",
        "                            });\n",
        "                        });\n",
        "                    } else {\n",
        "                        load_all_libs();\n",
        "                    };\n",
        "               }else{\n",
        "                    console.log('Require.js not found, loading manually...')\n",
        "                    load_all_libs();\n",
        "               };\n",
        "\n",
        "           </script>"
       ],
       "metadata": {},
       "output_type": "display_data",
       "text": [
        "<IPython.core.display.HTML at 0x10c3a7910>"
       ]
      }
     ],
     "prompt_number": 127
    },
    {
     "cell_type": "code",
     "collapsed": false,
     "input": [
      "data_dir = \"/Users/tj/Dropbox/research/elastic-net-downscaling/data/\"\n",
      "ncep_ncar = os.path.join(data_dir, \"ncep_ncar\")\n",
      "observed_file = os.path.join(data_dir, \"obs_prcp.nc\")"
     ],
     "language": "python",
     "metadata": {},
     "outputs": [],
     "prompt_number": 128
    },
    {
     "cell_type": "code",
     "collapsed": false,
     "input": [
      "observed_data = Dataset(observed_file)\n",
      "t = observed_data.variables['time'][:]\n",
      "t = num2date(t, \"days since 1950-01-01 00:00:00\")"
     ],
     "language": "python",
     "metadata": {},
     "outputs": [],
     "prompt_number": 129
    },
    {
     "cell_type": "code",
     "collapsed": false,
     "input": [
      "variables = [\"air\", \"pres\", \"rhum\", \"slp\", \"pr_wtr\", \"uwnd\", \"vwnd\"]\n",
      "exten = \".mon.mean.nc\"\n",
      "data = Dataset(os.path.join(ncep_ncar, \"air\"+exten))\n",
      "t2 = data.variables[\"time\"][:]\n",
      "t2 = num2date(t2, \"hours since 1800-01-01 00:00:0.0\")\n",
      "rows = (t2 >= datetime.datetime(1950, 1, 1)) & (t2 < datetime.datetime(2000, 1, 1))\n",
      "numpy.reshape(data.variables['air'][rows], (600,  73*144)).shape  # confirm there are 600 rows"
     ],
     "language": "python",
     "metadata": {},
     "outputs": [
      {
       "metadata": {},
       "output_type": "pyout",
       "prompt_number": 130,
       "text": [
        "(600, 10512)"
       ]
      }
     ],
     "prompt_number": 130
    },
    {
     "cell_type": "code",
     "collapsed": false,
     "input": [
      "max_lat = 75\n",
      "min_lat = 0\n",
      "min_lon = 180\n",
      "max_lon = 315\n",
      "\n",
      "data =  Dataset(os.path.join(ncep_ncar, \"air\"+exten))\n",
      "lat_vals = data.variables[\"lat\"][:]\n",
      "lon_vals = data.variables[\"lon\"][:]\n",
      "lon_cols = (lon_vals >= min_lon) & (lon_vals <= max_lon)\n",
      "lat_cols = (lat_vals >= min_lat) & (lat_vals <= max_lat)\n",
      "nlon = sum(lon_cols)\n",
      "nlat = sum(lat_cols)\n",
      "cols = len(variables)*nlat*nlon\n",
      "gridded = numpy.empty((sum(rows), cols))\n",
      "\n",
      "for i, var in enumerate(variables):\n",
      "    data = Dataset(os.path.join(ncep_ncar, var+exten))\n",
      "    arr = numpy.reshape(data.variables[var][rows, lat_cols, lon_cols], \n",
      "                        (sum(rows), nlon*nlat))\n",
      "    \n",
      "    start = i*nlon*nlat\n",
      "    gridded[:, start:(start+nlon*nlat)] = arr\n"
     ],
     "language": "python",
     "metadata": {},
     "outputs": [],
     "prompt_number": 131
    },
    {
     "cell_type": "code",
     "collapsed": true,
     "input": [
      "shape = observed_data.variables[\"Prcp\"][:].shape\n",
      "lt = 176-1\n",
      "ln = 23-1\n",
      "y = observed_data.variables[\"Prcp\"][:, lt, ln]\n",
      "normalized_gridded = (gridded - gridded[:400].mean(axis=0)) / gridded[:400].std(axis=0)\n",
      "\n",
      "ll=numpy.linspace(0.05,0.10, 20)\n",
      "L = LassoCV(alphas=[0.079], cv=10, max_iter=2000, tol=0.00001, n_jobs=4)\n",
      "L.fit(normalized_gridded[:400], y[:400])"
     ],
     "language": "python",
     "metadata": {},
     "outputs": [
      {
       "metadata": {},
       "output_type": "pyout",
       "prompt_number": 146,
       "text": [
        "LassoCV(alphas=[0.079], copy_X=True, cv=10, eps=0.001, fit_intercept=True,\n",
        "    max_iter=2000, n_alphas=100, n_jobs=4, normalize=False, positive=False,\n",
        "    precompute='auto', tol=1e-05, verbose=False)"
       ]
      }
     ],
     "prompt_number": 146
    },
    {
     "cell_type": "code",
     "collapsed": false,
     "input": [
      "print sum(L.coef_ != 0)\n",
      "coef = numpy.reshape(L.coef_, (len(variables), nlat, nlon))\n",
      "temp = numpy.reshape(gridded[1], (len(variables), nlat, nlon))\n",
      "pyplot.imshow(numpy.sum(coef, axis=0))\n",
      "pyplot.show()"
     ],
     "language": "python",
     "metadata": {},
     "outputs": [
      {
       "output_type": "stream",
       "stream": "stdout",
       "text": [
        "107\n"
       ]
      },
      {
       "metadata": {},
       "output_type": "display_data",
       "png": "[encoded data removed]",
       "text": [
        "<matplotlib.figure.Figure at 0x10f699390>"
       ]
      }
     ],
     "prompt_number": 149
    },
    {
     "cell_type": "code",
     "collapsed": false,
     "input": [
      "gridded[:400]\n",
      "normalized_gridded[:400]\n",
      "print \"Alpha\", L.alpha_ \n",
      "L.mse_path_.sum()\n",
      "yhat = L.predict(normalized_gridded[400:])\n",
      "print \"Corr\", numpy.corrcoef(y[400:], yhat)[0,1]\n",
      "print \"SSE\", sum((yhat - y[400:])**2)"
     ],
     "language": "python",
     "metadata": {},
     "outputs": [
      {
       "output_type": "stream",
       "stream": "stdout",
       "text": [
        "Alpha 0.079\n",
        "Corr 0.870026843618\n",
        "SSE 921.08760161\n"
       ]
      }
     ],
     "prompt_number": 150
    },
    {
     "cell_type": "code",
     "collapsed": false,
     "input": [],
     "language": "python",
     "metadata": {},
     "outputs": []
    },
    {
     "cell_type": "code",
     "collapsed": false,
     "input": [],
     "language": "python",
     "metadata": {},
     "outputs": []
    }
   ],
   "metadata": {}
  }
 ]
}